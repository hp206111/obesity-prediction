{
  "nbformat": 4,
  "nbformat_minor": 0,
  "metadata": {
    "colab": {
      "private_outputs": true,
      "provenance": [],
      "toc_visible": true
    },
    "kernelspec": {
      "name": "python3",
      "display_name": "Python 3"
    },
    "language_info": {
      "name": "python"
    }
  },
  "cells": [
    {
      "cell_type": "code",
      "execution_count": null,
      "metadata": {
        "id": "_XlowHP6cCm6"
      },
      "outputs": [],
      "source": [
        "import pandas as pd\n",
        "import numpy as np\n",
        "from sklearn import linear_model\n",
        "from sklearn.metrics import roc_auc_score"
      ]
    },
    {
      "cell_type": "code",
      "source": [
        "data=pd.read_csv('/content/obesity_data.csv')"
      ],
      "metadata": {
        "id": "X9m26KQidB8c"
      },
      "execution_count": null,
      "outputs": []
    },
    {
      "cell_type": "code",
      "source": [
        "data.head()"
      ],
      "metadata": {
        "id": "5EwzWow3dtcN"
      },
      "execution_count": null,
      "outputs": []
    },
    {
      "cell_type": "code",
      "source": [
        "import matplotlib.pyplot as plt\n"
      ],
      "metadata": {
        "id": "GPZqRmrEd5zs"
      },
      "execution_count": null,
      "outputs": []
    },
    {
      "cell_type": "code",
      "source": [
        "summary_statistics = data.describe()\n",
        "print(summary_statistics)"
      ],
      "metadata": {
        "id": "Rrd7rvRCeixA"
      },
      "execution_count": null,
      "outputs": []
    },
    {
      "cell_type": "code",
      "source": [
        "import seaborn as sns\n",
        "sns.set_style(\"darkgrid\")"
      ],
      "metadata": {
        "id": "oQ86T5RugD3N"
      },
      "execution_count": null,
      "outputs": []
    },
    {
      "cell_type": "code",
      "source": [
        "data.BMI.hist()"
      ],
      "metadata": {
        "id": "DraT53lWgZfp"
      },
      "execution_count": null,
      "outputs": []
    },
    {
      "cell_type": "code",
      "source": [
        "sns.histplot(data = data, x = \"BMI\", color = \"red\")"
      ],
      "metadata": {
        "id": "Ul34gIyfg7GB"
      },
      "execution_count": null,
      "outputs": []
    },
    {
      "cell_type": "code",
      "source": [
        "data.BMI.skew()"
      ],
      "metadata": {
        "id": "eP32_x3shlUS"
      },
      "execution_count": null,
      "outputs": []
    },
    {
      "cell_type": "code",
      "source": [
        "sns.kdeplot(data = data, x = \"BMI\")"
      ],
      "metadata": {
        "id": "w0ArkZYFiDq6"
      },
      "execution_count": null,
      "outputs": []
    },
    {
      "cell_type": "code",
      "source": [
        "sns.displot(data = data, x = \"BMI\", bins = 10, kde = True)"
      ],
      "metadata": {
        "id": "CkOe2s97iQ5K"
      },
      "execution_count": null,
      "outputs": []
    },
    {
      "cell_type": "code",
      "source": [
        "plt.scatter(data.Age, data.BMI)\n",
        "plt.title('AGE VS BMI')\n",
        "plt.xlabel('AGE')\n",
        "plt.ylabel('BMI')"
      ],
      "metadata": {
        "id": "5XaOiDCZs4X_"
      },
      "execution_count": null,
      "outputs": []
    },
    {
      "cell_type": "code",
      "source": [
        "import statsmodels.api as sm"
      ],
      "metadata": {
        "id": "fUL5z5kvuE_B"
      },
      "execution_count": null,
      "outputs": []
    },
    {
      "cell_type": "code",
      "source": [
        "y = data['BMI']"
      ],
      "metadata": {
        "id": "sWmo50kjuzr5"
      },
      "execution_count": null,
      "outputs": []
    },
    {
      "cell_type": "code",
      "source": [
        "x = data[['PhysicalActivityLevel']]"
      ],
      "metadata": {
        "id": "74ct140ivVO4"
      },
      "execution_count": null,
      "outputs": []
    },
    {
      "cell_type": "code",
      "source": [
        "x = sm.add_constant(x)"
      ],
      "metadata": {
        "id": "zIpWcInFvs8J"
      },
      "execution_count": null,
      "outputs": []
    },
    {
      "cell_type": "code",
      "source": [
        "model = sm.OLS(y, x).fit()"
      ],
      "metadata": {
        "id": "MKAM2_jDv9i5"
      },
      "execution_count": null,
      "outputs": []
    },
    {
      "cell_type": "code",
      "source": [
        "print(model.summary())"
      ],
      "metadata": {
        "id": "mFlbR_g1wC3p"
      },
      "execution_count": null,
      "outputs": []
    },
    {
      "cell_type": "code",
      "source": [
        "X = data[[\"Age\",\"BMI\",\"PhysicalActivityLevel\"]]\n",
        "y = data[[\"ObesityCategory\"]]\n",
        "logreg = linear_model.LogisticRegression()\n",
        "logreg.fit(X, y)"
      ],
      "metadata": {
        "id": "LuePWo-fxBts"
      },
      "execution_count": null,
      "outputs": []
    },
    {
      "cell_type": "code",
      "source": [],
      "metadata": {
        "id": "M1V6FrvJzTZC"
      },
      "execution_count": null,
      "outputs": []
    }
  ]
}